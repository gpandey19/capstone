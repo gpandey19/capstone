{
 "cells": [
  {
   "cell_type": "code",
   "execution_count": 1,
   "metadata": {
    "collapsed": true
   },
   "outputs": [],
   "source": [
    "import pandas as pd\n",
    "import matplotlib.pyplot as plt\n",
    "import seaborn as sns\n",
    "import numpy as np\n",
    "from scipy.stats import norm\n",
    "from sklearn.preprocessing import StandardScaler\n",
    "from scipy import stats\n",
    "import warnings\n",
    "warnings.filterwarnings('ignore')\n",
    "%matplotlib inline"
   ]
  },
  {
   "cell_type": "code",
   "execution_count": 2,
   "metadata": {},
   "outputs": [
    {
     "data": {
      "text/html": [
       "<div>\n",
       "<style>\n",
       "    .dataframe thead tr:only-child th {\n",
       "        text-align: right;\n",
       "    }\n",
       "\n",
       "    .dataframe thead th {\n",
       "        text-align: left;\n",
       "    }\n",
       "\n",
       "    .dataframe tbody tr th {\n",
       "        vertical-align: top;\n",
       "    }\n",
       "</style>\n",
       "<table border=\"1\" class=\"dataframe\">\n",
       "  <thead>\n",
       "    <tr style=\"text-align: right;\">\n",
       "      <th></th>\n",
       "      <th>Date received</th>\n",
       "      <th>Product</th>\n",
       "      <th>Sub-product</th>\n",
       "      <th>Issue</th>\n",
       "      <th>Sub-issue</th>\n",
       "      <th>Consumer complaint narrative</th>\n",
       "      <th>Company public response</th>\n",
       "      <th>Company</th>\n",
       "      <th>State</th>\n",
       "      <th>ZIP code</th>\n",
       "      <th>Tags</th>\n",
       "      <th>Consumer consent provided?</th>\n",
       "      <th>Submitted via</th>\n",
       "      <th>Date sent to company</th>\n",
       "      <th>Company response to consumer</th>\n",
       "      <th>Timely response?</th>\n",
       "      <th>Consumer disputed?</th>\n",
       "      <th>Complaint ID</th>\n",
       "    </tr>\n",
       "  </thead>\n",
       "  <tbody>\n",
       "    <tr>\n",
       "      <th>0</th>\n",
       "      <td>03/12/2014</td>\n",
       "      <td>Mortgage</td>\n",
       "      <td>Other mortgage</td>\n",
       "      <td>Loan modification,collection,foreclosure</td>\n",
       "      <td>NaN</td>\n",
       "      <td>NaN</td>\n",
       "      <td>NaN</td>\n",
       "      <td>M&amp;T BANK CORPORATION</td>\n",
       "      <td>MI</td>\n",
       "      <td>48382</td>\n",
       "      <td>NaN</td>\n",
       "      <td>NaN</td>\n",
       "      <td>Referral</td>\n",
       "      <td>03/17/2014</td>\n",
       "      <td>Closed with explanation</td>\n",
       "      <td>Yes</td>\n",
       "      <td>No</td>\n",
       "      <td>759217</td>\n",
       "    </tr>\n",
       "    <tr>\n",
       "      <th>1</th>\n",
       "      <td>10/01/2016</td>\n",
       "      <td>Credit reporting</td>\n",
       "      <td>NaN</td>\n",
       "      <td>Incorrect information on credit report</td>\n",
       "      <td>Account status</td>\n",
       "      <td>I have outdated information on my credit repor...</td>\n",
       "      <td>Company has responded to the consumer and the ...</td>\n",
       "      <td>TRANSUNION INTERMEDIATE HOLDINGS, INC.</td>\n",
       "      <td>AL</td>\n",
       "      <td>352XX</td>\n",
       "      <td>NaN</td>\n",
       "      <td>Consent provided</td>\n",
       "      <td>Web</td>\n",
       "      <td>10/05/2016</td>\n",
       "      <td>Closed with explanation</td>\n",
       "      <td>Yes</td>\n",
       "      <td>No</td>\n",
       "      <td>2141773</td>\n",
       "    </tr>\n",
       "    <tr>\n",
       "      <th>2</th>\n",
       "      <td>10/17/2016</td>\n",
       "      <td>Consumer Loan</td>\n",
       "      <td>Vehicle loan</td>\n",
       "      <td>Managing the loan or lease</td>\n",
       "      <td>NaN</td>\n",
       "      <td>I purchased a new car on XXXX XXXX. The car de...</td>\n",
       "      <td>NaN</td>\n",
       "      <td>CITIZENS FINANCIAL GROUP, INC.</td>\n",
       "      <td>PA</td>\n",
       "      <td>177XX</td>\n",
       "      <td>Older American</td>\n",
       "      <td>Consent provided</td>\n",
       "      <td>Web</td>\n",
       "      <td>10/20/2016</td>\n",
       "      <td>Closed with explanation</td>\n",
       "      <td>Yes</td>\n",
       "      <td>No</td>\n",
       "      <td>2163100</td>\n",
       "    </tr>\n",
       "    <tr>\n",
       "      <th>3</th>\n",
       "      <td>06/08/2014</td>\n",
       "      <td>Credit card</td>\n",
       "      <td>NaN</td>\n",
       "      <td>Bankruptcy</td>\n",
       "      <td>NaN</td>\n",
       "      <td>NaN</td>\n",
       "      <td>NaN</td>\n",
       "      <td>AMERICAN EXPRESS COMPANY</td>\n",
       "      <td>ID</td>\n",
       "      <td>83854</td>\n",
       "      <td>Older American</td>\n",
       "      <td>NaN</td>\n",
       "      <td>Web</td>\n",
       "      <td>06/10/2014</td>\n",
       "      <td>Closed with explanation</td>\n",
       "      <td>Yes</td>\n",
       "      <td>Yes</td>\n",
       "      <td>885638</td>\n",
       "    </tr>\n",
       "    <tr>\n",
       "      <th>4</th>\n",
       "      <td>09/13/2014</td>\n",
       "      <td>Debt collection</td>\n",
       "      <td>Credit card</td>\n",
       "      <td>Communication tactics</td>\n",
       "      <td>Frequent or repeated calls</td>\n",
       "      <td>NaN</td>\n",
       "      <td>NaN</td>\n",
       "      <td>CITIBANK, N.A.</td>\n",
       "      <td>VA</td>\n",
       "      <td>23233</td>\n",
       "      <td>NaN</td>\n",
       "      <td>NaN</td>\n",
       "      <td>Web</td>\n",
       "      <td>09/13/2014</td>\n",
       "      <td>Closed with explanation</td>\n",
       "      <td>Yes</td>\n",
       "      <td>Yes</td>\n",
       "      <td>1027760</td>\n",
       "    </tr>\n",
       "  </tbody>\n",
       "</table>\n",
       "</div>"
      ],
      "text/plain": [
       "  Date received           Product     Sub-product  \\\n",
       "0    03/12/2014          Mortgage  Other mortgage   \n",
       "1    10/01/2016  Credit reporting             NaN   \n",
       "2    10/17/2016     Consumer Loan    Vehicle loan   \n",
       "3    06/08/2014       Credit card             NaN   \n",
       "4    09/13/2014   Debt collection     Credit card   \n",
       "\n",
       "                                      Issue                   Sub-issue  \\\n",
       "0  Loan modification,collection,foreclosure                         NaN   \n",
       "1    Incorrect information on credit report              Account status   \n",
       "2                Managing the loan or lease                         NaN   \n",
       "3                                Bankruptcy                         NaN   \n",
       "4                     Communication tactics  Frequent or repeated calls   \n",
       "\n",
       "                        Consumer complaint narrative  \\\n",
       "0                                                NaN   \n",
       "1  I have outdated information on my credit repor...   \n",
       "2  I purchased a new car on XXXX XXXX. The car de...   \n",
       "3                                                NaN   \n",
       "4                                                NaN   \n",
       "\n",
       "                             Company public response  \\\n",
       "0                                                NaN   \n",
       "1  Company has responded to the consumer and the ...   \n",
       "2                                                NaN   \n",
       "3                                                NaN   \n",
       "4                                                NaN   \n",
       "\n",
       "                                  Company State ZIP code            Tags  \\\n",
       "0                    M&T BANK CORPORATION    MI    48382             NaN   \n",
       "1  TRANSUNION INTERMEDIATE HOLDINGS, INC.    AL    352XX             NaN   \n",
       "2          CITIZENS FINANCIAL GROUP, INC.    PA    177XX  Older American   \n",
       "3                AMERICAN EXPRESS COMPANY    ID    83854  Older American   \n",
       "4                          CITIBANK, N.A.    VA    23233             NaN   \n",
       "\n",
       "  Consumer consent provided? Submitted via Date sent to company  \\\n",
       "0                        NaN      Referral           03/17/2014   \n",
       "1           Consent provided           Web           10/05/2016   \n",
       "2           Consent provided           Web           10/20/2016   \n",
       "3                        NaN           Web           06/10/2014   \n",
       "4                        NaN           Web           09/13/2014   \n",
       "\n",
       "  Company response to consumer Timely response? Consumer disputed?  \\\n",
       "0      Closed with explanation              Yes                 No   \n",
       "1      Closed with explanation              Yes                 No   \n",
       "2      Closed with explanation              Yes                 No   \n",
       "3      Closed with explanation              Yes                Yes   \n",
       "4      Closed with explanation              Yes                Yes   \n",
       "\n",
       "   Complaint ID  \n",
       "0        759217  \n",
       "1       2141773  \n",
       "2       2163100  \n",
       "3        885638  \n",
       "4       1027760  "
      ]
     },
     "execution_count": 2,
     "metadata": {},
     "output_type": "execute_result"
    }
   ],
   "source": [
    "df_train = pd.read_csv('data/Consumer_Complaints.csv')\n",
    "df_train.head()"
   ]
  },
  {
   "cell_type": "code",
   "execution_count": 3,
   "metadata": {},
   "outputs": [
    {
     "data": {
      "text/plain": [
       "Index(['Date received', 'Product', 'Sub-product', 'Issue', 'Sub-issue',\n",
       "       'Consumer complaint narrative', 'Company public response', 'Company',\n",
       "       'State', 'ZIP code', 'Tags', 'Consumer consent provided?',\n",
       "       'Submitted via', 'Date sent to company', 'Company response to consumer',\n",
       "       'Timely response?', 'Consumer disputed?', 'Complaint ID'],\n",
       "      dtype='object')"
      ]
     },
     "execution_count": 3,
     "metadata": {},
     "output_type": "execute_result"
    }
   ],
   "source": [
    "df_train.columns"
   ]
  },
  {
   "cell_type": "code",
   "execution_count": 5,
   "metadata": {
    "collapsed": true
   },
   "outputs": [],
   "source": [
    "x = df_train.dropna(subset=['Consumer complaint narrative']) "
   ]
  },
  {
   "cell_type": "code",
   "execution_count": 6,
   "metadata": {},
   "outputs": [
    {
     "name": "stdout",
     "output_type": "stream",
     "text": [
      "<class 'pandas.core.frame.DataFrame'>\n",
      "Int64Index: 257212 entries, 1 to 986936\n",
      "Data columns (total 18 columns):\n",
      "Date received                   257212 non-null object\n",
      "Product                         257212 non-null object\n",
      "Sub-product                     205029 non-null object\n",
      "Issue                           257212 non-null object\n",
      "Sub-issue                       161516 non-null object\n",
      "Consumer complaint narrative    257212 non-null object\n",
      "Company public response         124331 non-null object\n",
      "Company                         257212 non-null object\n",
      "State                           255045 non-null object\n",
      "ZIP code                        253798 non-null object\n",
      "Tags                            43880 non-null object\n",
      "Consumer consent provided?      257212 non-null object\n",
      "Submitted via                   257212 non-null object\n",
      "Date sent to company            257212 non-null object\n",
      "Company response to consumer    257211 non-null object\n",
      "Timely response?                257212 non-null object\n",
      "Consumer disputed?              164126 non-null object\n",
      "Complaint ID                    257212 non-null int64\n",
      "dtypes: int64(1), object(17)\n",
      "memory usage: 37.3+ MB\n"
     ]
    }
   ],
   "source": [
    "x.info()"
   ]
  },
  {
   "cell_type": "code",
   "execution_count": 7,
   "metadata": {},
   "outputs": [
    {
     "name": "stdout",
     "output_type": "stream",
     "text": [
      "<class 'pandas.core.frame.DataFrame'>\n",
      "RangeIndex: 986937 entries, 0 to 986936\n",
      "Data columns (total 18 columns):\n",
      "Date received                   986937 non-null object\n",
      "Product                         986937 non-null object\n",
      "Sub-product                     751767 non-null object\n",
      "Issue                           986937 non-null object\n",
      "Sub-issue                       496128 non-null object\n",
      "Consumer complaint narrative    257212 non-null object\n",
      "Company public response         298788 non-null object\n",
      "Company                         986937 non-null object\n",
      "State                           969616 non-null object\n",
      "ZIP code                        965435 non-null object\n",
      "Tags                            136961 non-null object\n",
      "Consumer consent provided?      457753 non-null object\n",
      "Submitted via                   986937 non-null object\n",
      "Date sent to company            986937 non-null object\n",
      "Company response to consumer    986935 non-null object\n",
      "Timely response?                986937 non-null object\n",
      "Consumer disputed?              768567 non-null object\n",
      "Complaint ID                    986937 non-null int64\n",
      "dtypes: int64(1), object(17)\n",
      "memory usage: 135.5+ MB\n"
     ]
    }
   ],
   "source": [
    "df_train.info()"
   ]
  },
  {
   "cell_type": "code",
   "execution_count": 8,
   "metadata": {},
   "outputs": [
    {
     "data": {
      "text/plain": [
       "EQUIFAX, INC.                              24668\n",
       "TRANSUNION INTERMEDIATE HOLDINGS, INC.     18762\n",
       "Experian Information Solutions Inc.        18567\n",
       "WELLS FARGO & COMPANY                      10314\n",
       "BANK OF AMERICA, NATIONAL ASSOCIATION       9988\n",
       "CITIBANK, N.A.                              9759\n",
       "Navient Solutions, LLC.                     9206\n",
       "JPMORGAN CHASE & CO.                        8913\n",
       "CAPITAL ONE FINANCIAL CORPORATION           6029\n",
       "SYNCHRONY FINANCIAL                         4495\n",
       "OCWEN LOAN SERVICING LLC                    4034\n",
       "NATIONSTAR MORTGAGE                         3633\n",
       "U.S. BANCORP                                3104\n",
       "Ditech Financial LLC                        2961\n",
       "AMERICAN EXPRESS COMPANY                    2939\n",
       "AES/PHEAA                                   2508\n",
       "PORTFOLIO RECOVERY ASSOCIATES INC           2380\n",
       "ENCORE CAPITAL GROUP INC.                   2358\n",
       "DISCOVER BANK                               2040\n",
       "ERC                                         1774\n",
       "PAYPAL HOLDINGS INC.                        1689\n",
       "BARCLAYS BANK DELAWARE                      1659\n",
       "TD BANK US HOLDING COMPANY                  1654\n",
       "PNC Bank N.A.                               1638\n",
       "SELECT PORTFOLIO SERVICING, INC.            1449\n",
       "SANTANDER CONSUMER USA HOLDINGS INC.        1438\n",
       "ALLY FINANCIAL INC.                         1311\n",
       "SUNTRUST BANKS, INC.                        1255\n",
       "UNITED SERVICES AUTOMOBILE ASSOCIATION      1242\n",
       "TRANSWORLD SYSTEMS INC                      1182\n",
       "                                           ...  \n",
       "Randolph, Boyd, Cherry and Vaughan             1\n",
       "ACI Worldwide, Corp.                           1\n",
       "American Title Corp                            1\n",
       "Kirkland Financial LLC                         1\n",
       "SECURITY NATIONAL TITLE AND ESCROW, LLC        1\n",
       "Mark A. Leachman P.C.                          1\n",
       "Watson Mortgage Corp.                          1\n",
       "LPH, Inc.                                      1\n",
       "CBM Mortgage, Inc.                             1\n",
       "TFC Credit Corporation                         1\n",
       "SHARP COLLECTIONS, INC                         1\n",
       "Drake, Meyers, & Associates                    1\n",
       "Ripple Labs Inc.                               1\n",
       "Fortune Title Agency, Inc.                     1\n",
       "Shore View Financial Partners Inc.             1\n",
       "MEMBER FIRST MORTGAGE, LLC                     1\n",
       "C & E Financial Group, Inc.                    1\n",
       "America’s Financial Choice, Inc.               1\n",
       "Law Offices of Benjamin Woo                    1\n",
       "Vivix Credit Solutions                         1\n",
       "CORPORATE INVESTORS MORTGAGE                   1\n",
       "RNN Group, Inc                                 1\n",
       "Endeavor Capital, LLC                          1\n",
       "Law Offices of Ross Gelfand, LLC               1\n",
       "ACRE MORTGAGE                                  1\n",
       "Elite Financial Services, Inc (MA)             1\n",
       "Guy C. Zukeran, Attorney at Law, LLLC          1\n",
       "FIVE STAR MORTGAGE                             1\n",
       "Cypress Financial Recoveries, LLC              1\n",
       "MARQUEE MORTGAGE                               1\n",
       "Name: Company, Length: 3579, dtype: int64"
      ]
     },
     "execution_count": 8,
     "metadata": {},
     "output_type": "execute_result"
    }
   ],
   "source": [
    "x[\"Company\"].value_counts()"
   ]
  },
  {
   "cell_type": "code",
   "execution_count": 17,
   "metadata": {},
   "outputs": [],
   "source": [
    "target = x['Product'].unique()\n"
   ]
  },
  {
   "cell_type": "code",
   "execution_count": 18,
   "metadata": {},
   "outputs": [
    {
     "name": "stdout",
     "output_type": "stream",
     "text": [
      "['Credit reporting' 'Consumer Loan' 'Debt collection' 'Mortgage'\n",
      " 'Credit card' 'Other financial service' 'Bank account or service'\n",
      " 'Student loan' 'Money transfers' 'Payday loan' 'Prepaid card'\n",
      " 'Virtual currency'\n",
      " 'Credit reporting, credit repair services, or other personal consumer reports'\n",
      " 'Credit card or prepaid card' 'Checking or savings account'\n",
      " 'Payday loan, title loan, or personal loan' 'Vehicle loan or lease'\n",
      " 'Money transfer, virtual currency, or money service']\n"
     ]
    }
   ],
   "source": [
    "print (target)"
   ]
  },
  {
   "cell_type": "code",
   "execution_count": null,
   "metadata": {
    "collapsed": true
   },
   "outputs": [],
   "source": []
  }
 ],
 "metadata": {
  "kernelspec": {
   "display_name": "Python 3",
   "language": "python",
   "name": "python3"
  },
  "language_info": {
   "codemirror_mode": {
    "name": "ipython",
    "version": 3
   },
   "file_extension": ".py",
   "mimetype": "text/x-python",
   "name": "python",
   "nbconvert_exporter": "python",
   "pygments_lexer": "ipython3",
   "version": "3.6.2"
  }
 },
 "nbformat": 4,
 "nbformat_minor": 2
}
